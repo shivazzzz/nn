{
 "cells": [
  {
   "cell_type": "code",
   "execution_count": null,
   "id": "2c04a1a7",
   "metadata": {},
   "outputs": [],
   "source": []
  },
  {
   "cell_type": "code",
   "execution_count": 1,
   "id": "d16784e2",
   "metadata": {},
   "outputs": [],
   "source": [
    "import numpy as np\n",
    "import matplotlib.pyplot as plt"
   ]
  },
  {
   "cell_type": "code",
   "execution_count": 2,
   "id": "054ec583",
   "metadata": {},
   "outputs": [],
   "source": [
    "a = np.array([0, 0, 1, 1])\n",
    "b = np.array([0, 1, 0, 1])\n",
    "x_and = np.array([[0, 0, 0, 1]])\n",
    "\n"
   ]
  },
  {
   "cell_type": "code",
   "execution_count": 4,
   "id": "9a410fa9",
   "metadata": {},
   "outputs": [],
   "source": [
    "\n",
    "totalinput = []\n",
    "totalinput = [a, b]   \n",
    "totalinput = np.array(total_input)\n"
   ]
  },
  {
   "cell_type": "code",
   "execution_count": 5,
   "id": "024f3d7d",
   "metadata": {},
   "outputs": [],
   "source": [
    "def sigmoid (x):\n",
    "    return 1/(1 + np.exp(-x))\n",
    "\n",
    "input_neurons, hidden_neurons, output_neurons = 2, 2, 1\n",
    "\n",
    "samples = totalinput.shape[1]\n",
    "lr = 0.1\n",
    "np.random.seed(42)"
   ]
  },
  {
   "cell_type": "code",
   "execution_count": 6,
   "id": "a3552637",
   "metadata": {},
   "outputs": [],
   "source": [
    "w1 = np.random.rand(hidden_neurons, input_neurons)\n",
    "w2 = np.random.rand(output_neurons, hidden_neurons)"
   ]
  },
  {
   "cell_type": "code",
   "execution_count": 7,
   "id": "e040ed7b",
   "metadata": {},
   "outputs": [],
   "source": [
    "def forward_prop(w1, w2, x):\n",
    "    z1 = np.dot(w1, x)\n",
    "    a1 = sigmoid(z1)    \n",
    "    z2 = np.dot(w2, a1)\n",
    "    a2 = sigmoid(z2)\n",
    "    return z1, a1, z2, a2\n",
    "\n",
    "def back_prop(m, w1, w2, z1, a1, z2, a2, y):\n",
    "    \n",
    "    dz2 = a2-y\n",
    "    dw2 = np.dot(dz2, a1.T)/m\n",
    "    dz1 = np.dot(w2.T, dz2) * a1*(1-a1)\n",
    "    dw1 = np.dot(dz1, total_input.T)/m\n",
    "    dw1 = np.reshape(dw1, w1.shape)\n",
    "    \n",
    "    dw2 = np.reshape(dw2,w2.shape)    \n",
    "    return dz2,dw2,dz1,dw1"
   ]
  },
  {
   "cell_type": "code",
   "execution_count": 10,
   "id": "9096f749",
   "metadata": {},
   "outputs": [
    {
     "data": {
      "text/plain": [
       "Text(0, 0.5, 'Loss value')"
      ]
     },
     "execution_count": 10,
     "metadata": {},
     "output_type": "execute_result"
    },
    {
     "data": {
      "image/png": "[encoded data removed]",
      "text/plain": [
       "<Figure size 432x288 with 1 Axes>"
      ]
     },
     "metadata": {
      "needs_background": "light"
     },
     "output_type": "display_data"
    }
   ],
   "source": [
    "losses = []\n",
    "iterations = 10000\n",
    "\n",
    "for i in range(iterations):\n",
    "    z1, a1, z2, a2 = forward_prop(w1, w2, total_input)\n",
    "    loss = -(1/samples)*np.sum(x_and*np.log(a2)+(1-x_and)*np.log(1-a2))\n",
    "    losses.append(loss)\n",
    "    da2, dw2, dz1, dw1 = back_prop(samples, w1, w2, z1, a1, z2, a2, x_and)\n",
    "    w2 = w2-lr*dw2\n",
    "    w1 = w1-lr*dw1\n",
    "\n",
    "plt.plot(losses)\n",
    "plt.xlabel(\"EPOCHS\")\n",
    "plt.ylabel(\"Loss value\")"
   ]
  },
  {
   "cell_type": "code",
   "execution_count": null,
   "id": "30ae117b",
   "metadata": {},
   "outputs": [],
   "source": []
  }
 ],
 "metadata": {
  "kernelspec": {
   "display_name": "Python 3 (ipykernel)",
   "language": "python",
   "name": "python3"
  },
  "language_info": {
   "codemirror_mode": {
    "name": "ipython",
    "version": 3
   },
   "file_extension": ".py",
   "mimetype": "text/x-python",
   "name": "python",
   "nbconvert_exporter": "python",
   "pygments_lexer": "ipython3",
   "version": "3.9.7"
  }
 },
 "nbformat": 4,
 "nbformat_minor": 5
}
